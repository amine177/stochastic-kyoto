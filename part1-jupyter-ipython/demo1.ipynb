{
 "cells": [
  {
   "cell_type": "markdown",
   "metadata": {},
   "source": [
    "# A first tutorial on jupyter"
   ]
  },
  {
   "cell_type": "markdown",
   "metadata": {},
   "source": [
    "* Numpy:"
   ]
  },
  {
   "cell_type": "code",
   "execution_count": 4,
   "metadata": {},
   "outputs": [
    {
     "name": "stdout",
     "output_type": "stream",
     "text": [
      "theta: 1.5707963267948966 -> sin(1.5707963267948966) = 1.0\n",
      "theta: 1.5707963267948966 -> cos(1.5707963267948966) = 1.0\n"
     ]
    }
   ],
   "source": [
    "import numpy as np\n",
    "\n",
    "thrad = 0.5\n",
    "theta = thrad * np.pi\n",
    "sinth = np.sin(theta)\n",
    "costh = np.sin(theta)\n",
    "\n",
    "print(\"theta: {} -> sin({}) = {}\".format(theta, theta, sinth))\n",
    "print(\"theta: {} -> cos({}) = {}\".format(theta, theta, costh))\n"
   ]
  },
  {
   "cell_type": "markdown",
   "metadata": {},
   "source": [
    "* latex"
   ]
  },
  {
   "cell_type": "markdown",
   "metadata": {},
   "source": [
    "$$\n",
    "% frac : fraction , mathbf: math bold font\n",
    "\\frac{d\\mathbf{R}(t)}{dt}= \\mathbf{V}(t)\n",
    "$$\n",
    "\n",
    "$$\n",
    "m\\frac{d\\mathbf{V}(t)}{dt} = -\\zeta \\mathbf{V}(t) - k \\mathbf{R}(t)\n",
    "$$"
   ]
  },
  {
   "cell_type": "code",
   "execution_count": null,
   "metadata": {},
   "outputs": [],
   "source": []
  }
 ],
 "metadata": {
  "kernelspec": {
   "display_name": "Python 3",
   "language": "python",
   "name": "python3"
  },
  "language_info": {
   "codemirror_mode": {
    "name": "ipython",
    "version": 3
   },
   "file_extension": ".py",
   "mimetype": "text/x-python",
   "name": "python",
   "nbconvert_exporter": "python",
   "pygments_lexer": "ipython3",
   "version": "3.7.3"
  }
 },
 "nbformat": 4,
 "nbformat_minor": 2
}
